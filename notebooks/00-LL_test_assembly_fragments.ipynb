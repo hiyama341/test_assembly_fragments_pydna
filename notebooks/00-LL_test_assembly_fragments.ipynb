{
 "cells": [
  {
   "cell_type": "markdown",
   "metadata": {},
   "source": [
    "# Notebook to explain new functionality for the assembly_fragments function"
   ]
  },
  {
   "cell_type": "markdown",
   "metadata": {},
   "source": [
    "So I love using the assembly_fragments function and think it is super nice and easy to use. However, I have always thought that the assembly_fragments function could have the functionality of choosing which direction primers are made (see examples below). \n",
    "\n",
    "\n",
    "For reference the Klaevins lab made Coral https://github.com/klavinslab/coral?tab=readme-ov-file many years ago and they have this functionality in their gibson module: https://coral.readthedocs.io/en/latest/api.html#module-coral.design \n",
    "\n",
    "\n",
    "### From Coral \n",
    "\n"
   ]
  },
  {
   "cell_type": "code",
   "execution_count": null,
   "metadata": {},
   "outputs": [],
   "source": [
    "\n",
    "'''\n",
    "coral.design.gibson(seq_list, circular=True, overlaps='mixed', overlap_tm=65, maxlen=80, terminal_primers=True, primer_kwargs=None)\n",
    "\n",
    "Design Gibson primers given a set of sequences\n",
    "\n",
    "Parameters:\t\n",
    "seq_list (list containing coral.DNA) – List of DNA sequences to stitch together\n",
    "circular (bool) – If true, designs primers for making a circular construct. If false, designs primers for a linear construct.\n",
    "splits (str or list of str) – Specifies locations of overlap. Must be either a single entry of the same type as the ‘split’ parameter in gibson_primers or a list of those types of the appropriate length (for circular construct, len(seq_list), for linear construct, len(seq_list) - 1)\n",
    "overlap_tm (float) – Minimum Tm of overlap\n",
    "maxlen (int) – Maximum length of each primer.\n",
    "terminal_primers (bool) – If the output is not circular, will design non-Gibson primers for amplifying the first and last fragments sans homology. If False, there will be one less set of primers returned.\n",
    "primer_kwargs (dict) – keyword arguments to pass to design.primer\n",
    "\n",
    "Returns:\t\n",
    "Forward and reverse primers for amplifying every fragment.\n",
    "\n",
    "Return type:\t\n",
    "a list of sequence.Primer tuples\n",
    "\n",
    "Raises:\t\n",
    "ValueError if split parameter is an invalid string or wrong size.\n",
    "'''"
   ]
  },
  {
   "cell_type": "markdown",
   "metadata": {},
   "source": [
    "# From Pydna documentation"
   ]
  },
  {
   "cell_type": "markdown",
   "metadata": {},
   "source": [
    "Example 1: Linear assembly of PCR products (pydna.amplicon.Amplicon class objects)\n",
    "\n",
    "\n",
    "        >       <         >       <\n",
    "        Amplicon1         Amplicon3\n",
    "                 Amplicon2         Amplicon4\n",
    "                 >       <         >       <\n",
    "\n",
    "                             ⇣\n",
    "                             pydna.design.assembly_fragments\n",
    "                             ⇣\n",
    "\n",
    "        >       <-       ->       <-                      pydna.assembly.Assembly\n",
    "        Amplicon1         Amplicon3\n",
    "                 Amplicon2         Amplicon4     ➤  Amplicon1Amplicon2Amplicon3Amplicon4\n",
    "                ->       <-       ->       <\n",
    "\n",
    "\n",
    "Low level perspective: \n",
    "\n",
    "      agcctatcatcttggtctctgca\n",
    "      |||||||||||||||||||||||\n",
    "                      gagacgtAAATATA\n",
    "\n",
    "      |||||||||||||||||||||||\n",
    "      tcggatagtagaaccagagacgt\n",
    "\n",
    "\n",
    "                             TTTATATCGCATGACTCTTCTTT\n",
    "                             |||||||||||||||||||||||\n",
    "\n",
    "                      ctctgcaTTTATAT\n",
    "                             |||||||||||||||||||||||\n",
    "                             AAATATAGCGTACTGAGAAGAAA\n",
    "\n",
    "PCR products with flanking sequences are formed in the PCR process.\n",
    "\n",
    "\n",
    "\n",
    "      agcctatcatcttggtctctgcaTTTATAT\n",
    "      ||||||||||||||||||||||||||||||\n",
    "      tcggatagtagaaccagagacgtAAATATA\n",
    "                      \\\\____________/\n",
    "\n",
    "                         identical\n",
    "                         sequences\n",
    "                       ____________\n",
    "                      /            \\\\\n",
    "                      ctctgcaTTTATATCGCATGACTCTTCTTT\n",
    "                      ||||||||||||||||||||||||||||||\n",
    "                      gagacgtAAATATAGCGTACTGAGAAGAAA\n",
    "        \n",
    "----------------------------------------------------------------\n",
    "NEW functionality: Linear assembly of PCR products but choose overhang side (pydna.amplicon.Amplicon class objects) ------\n",
    "Choose how overlapping is formed.\n",
    "- Could for example be:\n",
    "1. Right overlap, \n",
    "2. 50/50 overlap (like it is now), or \n",
    "3. Left overlap.\n",
    "\n",
    "Right overlapping:\n",
    "----------------------------------------------------------------\n",
    "\n",
    "        >       <         >       <\n",
    "        Amplicon1         Amplicon3\n",
    "                 Amplicon2         Amplicon4\n",
    "                 >       <         >       <\n",
    "\n",
    "                             ⇣\n",
    "                pydna.design.assembly_fragments\n",
    "                             ⇣\n",
    "\n",
    "        >       <--       >       <--                     pydna.assembly.Assembly\n",
    "        Amplicon1         Amplicon3\n",
    "                 Amplicon2         Amplicon4     ➤  Amplicon1Amplicon2Amplicon3Amplicon4\n",
    "                 >       <--       >       <\n",
    "\n",
    "\n",
    "\n",
    "Low level perspective: \n",
    "\n",
    "      agcctatcatcttggtctctgca\n",
    "      |||||||||||||||||||||||\n",
    "                      gagacgtAAATATAGCGTACT\n",
    "\n",
    "      |||||||||||||||||||||||\n",
    "      tcggatagtagaaccagagacgt\n",
    "\n",
    "\n",
    "                             TTTATATCGCATGACTCTTCTTT\n",
    "                             |||||||||||||||||||||||\n",
    "\n",
    "                             TTTATAT\n",
    "                             |||||||||||||||||||||||\n",
    "                             AAATATAGCGTACTGAGAAGAAA\n",
    "\n",
    "PCR products with flanking sequences are formed in the PCR process.\n",
    "\n",
    "\n",
    "\n",
    "      agcctatcatcttggtctctgcaTTTATATCGCATGA\n",
    "      |||||||||||||||||||||||||||||||||||||\n",
    "      tcggatagtagaaccagagacgtAAATATAGCGTACT\n",
    "                            \\\\____________/\n",
    "\n",
    "                                identical\n",
    "                                sequences\n",
    "                               ____________\n",
    "                             /            \\\\\n",
    "                             TTTATATCGCATGACTCTTCTTT\n",
    "                             |||||||||||||||||||||||\n",
    "                             AAATATAGCGTACTGAGAAGAAA\n",
    "        \n",
    "\n",
    "\n",
    "Left overlapping:\n",
    "----------------------------------------------------------------\n",
    "\n",
    "        >       <         >       <\n",
    "        Amplicon1         Amplicon3\n",
    "                 Amplicon2         Amplicon4\n",
    "                 >       <         >       <\n",
    "\n",
    "                             ⇣\n",
    "                             pydna.design.assembly_fragments\n",
    "                             ⇣\n",
    "\n",
    "        >       <       -->       <                       pydna.assembly.Assembly\n",
    "        Amplicon1         Amplicon3\n",
    "                 Amplicon2         Amplicon4     ➤  Amplicon1Amplicon2Amplicon3Amplicon4\n",
    "               -->       <       -->       <\n",
    "\n",
    "\n",
    "\n",
    "\n",
    "\n"
   ]
  },
  {
   "cell_type": "markdown",
   "metadata": {},
   "source": [
    "# example code: "
   ]
  },
  {
   "cell_type": "code",
   "execution_count": 18,
   "metadata": {},
   "outputs": [],
   "source": [
    "from pydna.dseqrecord import Dseqrecord\n",
    "from pydna.design import primer_design\n",
    "a=primer_design(Dseqrecord(\"atgactgctaacccttccttggtgttgaacaagatcgacgacatttcgttcgaaacttacgatg\"))\n",
    "b=primer_design(Dseqrecord(\"ccaaacccaccaggtaccttatgtaagtacttcaagtcgccagaagacttcttggtcaagttgcc\"))\n",
    "c=primer_design(Dseqrecord(\"tgtactggtgctgaaccttgtatcaagttgggtgttgacgccattgccccaggtggtcgtttcgtt\"))\n",
    "from pydna.design import assembly_fragments\n",
    "# We would like a circular recombination, so the first sequence has to be repeated\n",
    "fa1,fb,fc,fa2 = assembly_fragments([a,b,c,a]) # adding the overlap_side  argument (str) – Specifies location of overlap. ‘left’ puts it on the ‘dna1’ side (i.e. the primer to amplify dna2). ‘right’ puts it on the dna2 side, and ‘mixed’ does a ~50:50 split\n",
    "\n"
   ]
  },
  {
   "cell_type": "code",
   "execution_count": 19,
   "metadata": {},
   "outputs": [
    {
     "data": {
      "text/plain": [
       "Assembly\n",
       "fragments..: 100bp 101bp 102bp\n",
       "limit(bp)..: 25\n",
       "G.nodes....: 6\n",
       "algorithm..: common_sub_strings"
      ]
     },
     "execution_count": 19,
     "metadata": {},
     "output_type": "execute_result"
    }
   ],
   "source": [
    "# Since all fragments are Amplicons, we need to extract the rp of the 1st and fp of the last fragments.\n",
    "from pydna.amplify import pcr\n",
    "fa = pcr(fa2.forward_primer, fa1.reverse_primer, a)\n",
    "fa.name, fb.name, fc.name = \"fa fb fc\".split()\n",
    "from pydna.assembly import Assembly\n",
    "assemblyobj = Assembly([fa,fb,fc])\n",
    "assemblyobj"
   ]
  },
  {
   "cell_type": "code",
   "execution_count": 20,
   "metadata": {},
   "outputs": [
    {
     "data": {
      "text/plain": [
       "[Contig(-231), Contig(-166), Contig(-36)]"
      ]
     },
     "execution_count": 20,
     "metadata": {},
     "output_type": "execute_result"
    }
   ],
   "source": [
    "assemblyobj.assemble_linear()"
   ]
  },
  {
   "cell_type": "code",
   "execution_count": 21,
   "metadata": {},
   "outputs": [
    {
     "name": "stdout",
     "output_type": "stream",
     "text": [
      " -|fa|36\n",
      "|     \\/\n",
      "|     /\\\n",
      "|     36|fb|36\n",
      "|           \\/\n",
      "|           /\\\n",
      "|           36|fc|36\n",
      "|                 \\/\n",
      "|                 /\\\n",
      "|                 36-\n",
      "|                    |\n",
      " --------------------\n"
     ]
    }
   ],
   "source": [
    "print(assemblyobj.assemble_circular()[0].figure())"
   ]
  }
 ],
 "metadata": {
  "kernelspec": {
   "display_name": "Python 3",
   "language": "python",
   "name": "python3"
  },
  "language_info": {
   "codemirror_mode": {
    "name": "ipython",
    "version": 3
   },
   "file_extension": ".py",
   "mimetype": "text/x-python",
   "name": "python",
   "nbconvert_exporter": "python",
   "pygments_lexer": "ipython3",
   "version": "3.8.13"
  }
 },
 "nbformat": 4,
 "nbformat_minor": 2
}
